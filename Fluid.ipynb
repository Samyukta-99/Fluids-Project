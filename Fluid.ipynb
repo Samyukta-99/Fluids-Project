{
  "nbformat": 4,
  "nbformat_minor": 0,
  "metadata": {
    "colab": {
      "provenance": []
    },
    "kernelspec": {
      "name": "python3",
      "display_name": "Python 3"
    },
    "language_info": {
      "name": "python"
    }
  },
  "cells": [
    {
      "cell_type": "code",
      "metadata": {
        "id": "FQB0lG34Hb1A"
      },
      "source": [
        "import tensorflow as tf\n",
        "import matplotlib.pyplot as plt\n",
        "import cv2\n",
        "import numpy as np\n",
        "import pandas as pd\n",
        "import random\n",
        "from sklearn.metrics import r2_score"
      ],
      "execution_count": null,
      "outputs": []
    },
    {
      "cell_type": "code",
      "metadata": {
        "colab": {
          "base_uri": "https://localhost:8080/"
        },
        "id": "YshRbCv802N2",
        "outputId": "c37781c2-c6a4-45b9-e196-d7450abe8953"
      },
      "source": [
        "from google.colab import drive\n",
        "drive.mount('/content/drive/')"
      ],
      "execution_count": null,
      "outputs": [
        {
          "output_type": "stream",
          "name": "stdout",
          "text": [
            "Mounted at /content/drive/\n"
          ]
        }
      ]
    },
    {
      "cell_type": "markdown",
      "metadata": {
        "id": "xOXNv5b_rp7N"
      },
      "source": [
        "## Data loading from GDrive"
      ]
    },
    {
      "cell_type": "code",
      "metadata": {
        "id": "6e2Or4gO1QM8"
      },
      "source": [
        "file_path = '/content/drive/MyDrive/FluidsData/FluidData/{i}.csv'\n",
        "features = []\n",
        "\n",
        "for i in range(1,33):\n",
        "  data = pd.read_csv('/content/drive/MyDrive/FluidsData/FluidData/{}.csv'.format(i))['U:0']\n",
        "  features.append(np.array(data))"
      ],
      "execution_count": null,
      "outputs": []
    },
    {
      "cell_type": "code",
      "metadata": {
        "colab": {
          "base_uri": "https://localhost:8080/"
        },
        "id": "5TpCeXE-3SYT",
        "outputId": "914cf268-2f0a-4c6d-aea7-0fe329be0a67"
      },
      "source": [
        "features  = np.array(features)\n",
        "features.shape"
      ],
      "execution_count": null,
      "outputs": [
        {
          "output_type": "execute_result",
          "data": {
            "text/plain": [
              "(32, 1001)"
            ]
          },
          "metadata": {},
          "execution_count": 5
        }
      ]
    },
    {
      "cell_type": "markdown",
      "metadata": {
        "id": "8wfvZEcwrtmb"
      },
      "source": [
        "## Creating labels/target grid of images as per mentioned in the paper"
      ]
    },
    {
      "cell_type": "code",
      "metadata": {
        "colab": {
          "base_uri": "https://localhost:8080/"
        },
        "id": "QYQwT1uqydUs",
        "outputId": "789500fa-fd4a-4e6e-b6cf-480a76965928"
      },
      "source": [
        "img = np.zeros((800,800), dtype = np.uint8)\n",
        "\n",
        "beta = 1.0/80.0\n",
        "rad = []\n",
        "finalset = []\n",
        "\n",
        "for i in range(1, 33):\n",
        "    img2 = np.zeros((40,40), dtype = np.uint8)\n",
        "    radius = int(i * (800.0 * beta)*(1.0/2.0))\n",
        "    rad.append(radius)\n",
        "    img = cv2.circle(img, (400,400), radius, 255, -1)\n",
        "    for a in range(40):\n",
        "        for b in range(40):\n",
        "            x = a * 20;\n",
        "            y = b * 20;\n",
        "            sum = 0.0\n",
        "            for i in range(20):\n",
        "                for j in range(20):\n",
        "                    sum += img[x+i, y+j];\n",
        "            sum /= 400.0;\n",
        "            img2[a, b] = sum\n",
        "    finalset.append(img2)\n",
        "    cv2.waitKey(0)\n",
        "\n",
        "print('X_data shape:', np.array(finalset).shape)\n",
        "rad = np.array(rad)"
      ],
      "execution_count": null,
      "outputs": [
        {
          "output_type": "stream",
          "name": "stdout",
          "text": [
            "X_data shape: (32, 40, 40)\n"
          ]
        }
      ]
    },
    {
      "cell_type": "code",
      "metadata": {
        "colab": {
          "base_uri": "https://localhost:8080/",
          "height": 284
        },
        "id": "bSm0GOlbf4us",
        "outputId": "131e1538-6707-48bf-9f9f-9a51f9464ad5"
      },
      "source": [
        "plt.imshow(finalset[21],cmap='gray')  #eg of the above creation"
      ],
      "execution_count": null,
      "outputs": [
        {
          "output_type": "execute_result",
          "data": {
            "text/plain": [
              "<matplotlib.image.AxesImage at 0x7f298582d510>"
            ]
          },
          "metadata": {},
          "execution_count": 7
        },
        {
          "output_type": "display_data",
          "data": {
            "image/png": "[encoded data removed]",
            "text/plain": [
              "<Figure size 432x288 with 1 Axes>"
            ]
          },
          "metadata": {
            "needs_background": "light"
          }
        }
      ]
    },
    {
      "cell_type": "markdown",
      "metadata": {
        "id": "HXQW1kJzr45M"
      },
      "source": [
        "## Creating custom dataset so that we can feed it in our ANN"
      ]
    },
    {
      "cell_type": "code",
      "metadata": {
        "colab": {
          "base_uri": "https://localhost:8080/"
        },
        "id": "D8nfgN4d36pK",
        "outputId": "d75cee56-0b8f-46cc-8fc0-cda855b16eab"
      },
      "source": [
        "labels = []\n",
        "yset = []\n",
        "for i in range(32):\n",
        "  tlf  = finalset[i].reshape(-1)/255\n",
        "  yset.append(tlf)\n",
        "  labels.append(np.where(tlf<0.35,0,1))\n",
        "\n",
        "labels = np.array(labels)\n",
        "yset = np.array(yset)\n",
        "print(labels.shape)"
      ],
      "execution_count": null,
      "outputs": [
        {
          "output_type": "stream",
          "name": "stdout",
          "text": [
            "(32, 1600)\n"
          ]
        }
      ]
    },
    {
      "cell_type": "code",
      "metadata": {
        "id": "EJUAaaj34oxf"
      },
      "source": [
        "# idx = list(range(32))\n",
        "# #idx = random.sample(idx,32)\n",
        "# #len(set(idx))\n",
        "# below lsit can be obtianed through above code\n",
        "idx = [29, 21,  0, 20, 25, 30, 23, 10,  2,  4, 11,  8,  9, 18, 27, 15,  7, 24, 17,  3, 14,  5, 22, 13, 16, 28,  6, 26, 31,  1, 19, 12] # so that we can randomly distribute the data\n",
        "#len(set(idx))  # if we use random.randint to iterate the every time we run we get different result so to get constant result we already define the list\n",
        "\n",
        "X_train,y_train,plottrain = features[idx[:26]],labels[idx[:26]],yset[idx[:26]]\n",
        "X_val,y_val,plotval = features[idx[26:30]],labels[idx[26:30]],yset[idx[26:30]]\n",
        "X_test,y_test,plottest = features[idx[30:32]],labels[idx[30:32]],yset[idx[30:32]]\n",
        "ytestrad = rad[idx[30:32]]"
      ],
      "execution_count": null,
      "outputs": []
    },
    {
      "cell_type": "markdown",
      "metadata": {
        "id": "ir86bZxjr_te"
      },
      "source": [
        "## Training our model"
      ]
    },
    {
      "cell_type": "code",
      "metadata": {
        "id": "BrVmdM69aU1w",
        "colab": {
          "base_uri": "https://localhost:8080/"
        },
        "outputId": "e23fc3ab-3d04-4b0c-d88d-9bc8129e9a57"
      },
      "source": [
        "model = tf.keras.Sequential([\n",
        "                             tf.keras.layers.Dense(256,input_shape=(1001,)),\n",
        "                             tf.keras.layers.Dense(256,activation='relu'),\n",
        "                             tf.keras.layers.Dropout(0.2),\n",
        "                             tf.keras.layers.Dense(512,activation='relu'),\n",
        "                             tf.keras.layers.Dense(512,activation='relu'),\n",
        "                             tf.keras.layers.Dense(1600,activation='sigmoid')\n",
        "])\n",
        "\n",
        "model.compile(optimizer=tf.keras.optimizers.Adam(learning_rate=0.001),loss=tf.keras.losses.BinaryCrossentropy(),metrics=[tf.keras.metrics.BinaryAccuracy()])\n",
        "history = model.fit(X_train,y_train,epochs=150)"
      ],
      "execution_count": null,
      "outputs": [
        {
          "output_type": "stream",
          "name": "stdout",
          "text": [
            "Epoch 1/150\n",
            "1/1 [==============================] - 1s 617ms/step - loss: 0.7173 - binary_accuracy: 0.4885\n",
            "Epoch 2/150\n",
            "1/1 [==============================] - 0s 21ms/step - loss: 0.6355 - binary_accuracy: 0.6754\n",
            "Epoch 3/150\n",
            "1/1 [==============================] - 0s 20ms/step - loss: 0.4635 - binary_accuracy: 0.8179\n",
            "Epoch 4/150\n",
            "1/1 [==============================] - 0s 24ms/step - loss: 0.2655 - binary_accuracy: 0.8972\n",
            "Epoch 5/150\n",
            "1/1 [==============================] - 0s 20ms/step - loss: 0.1623 - binary_accuracy: 0.9434\n",
            "Epoch 6/150\n",
            "1/1 [==============================] - 0s 31ms/step - loss: 0.1177 - binary_accuracy: 0.9623\n",
            "Epoch 7/150\n",
            "1/1 [==============================] - 0s 27ms/step - loss: 0.0996 - binary_accuracy: 0.9641\n",
            "Epoch 8/150\n",
            "1/1 [==============================] - 0s 26ms/step - loss: 0.0995 - binary_accuracy: 0.9584\n",
            "Epoch 9/150\n",
            "1/1 [==============================] - 0s 27ms/step - loss: 0.0988 - binary_accuracy: 0.9556\n",
            "Epoch 10/150\n",
            "1/1 [==============================] - 0s 25ms/step - loss: 0.0939 - binary_accuracy: 0.9562\n",
            "Epoch 11/150\n",
            "1/1 [==============================] - 0s 25ms/step - loss: 0.0913 - binary_accuracy: 0.9595\n",
            "Epoch 12/150\n",
            "1/1 [==============================] - 0s 26ms/step - loss: 0.0864 - binary_accuracy: 0.9623\n",
            "Epoch 13/150\n",
            "1/1 [==============================] - 0s 25ms/step - loss: 0.0799 - binary_accuracy: 0.9640\n",
            "Epoch 14/150\n",
            "1/1 [==============================] - 0s 27ms/step - loss: 0.0803 - binary_accuracy: 0.9633\n",
            "Epoch 15/150\n",
            "1/1 [==============================] - 0s 34ms/step - loss: 0.0784 - binary_accuracy: 0.9639\n",
            "Epoch 16/150\n",
            "1/1 [==============================] - 0s 26ms/step - loss: 0.0768 - binary_accuracy: 0.9617\n",
            "Epoch 17/150\n",
            "1/1 [==============================] - 0s 28ms/step - loss: 0.0721 - binary_accuracy: 0.9629\n",
            "Epoch 18/150\n",
            "1/1 [==============================] - 0s 29ms/step - loss: 0.0704 - binary_accuracy: 0.9638\n",
            "Epoch 19/150\n",
            "1/1 [==============================] - 0s 26ms/step - loss: 0.0706 - binary_accuracy: 0.9635\n",
            "Epoch 20/150\n",
            "1/1 [==============================] - 0s 31ms/step - loss: 0.0689 - binary_accuracy: 0.9639\n",
            "Epoch 21/150\n",
            "1/1 [==============================] - 0s 21ms/step - loss: 0.0683 - binary_accuracy: 0.9646\n",
            "Epoch 22/150\n",
            "1/1 [==============================] - 0s 24ms/step - loss: 0.0684 - binary_accuracy: 0.9654\n",
            "Epoch 23/150\n",
            "1/1 [==============================] - 0s 26ms/step - loss: 0.0659 - binary_accuracy: 0.9670\n",
            "Epoch 24/150\n",
            "1/1 [==============================] - 0s 23ms/step - loss: 0.0667 - binary_accuracy: 0.9664\n",
            "Epoch 25/150\n",
            "1/1 [==============================] - 0s 26ms/step - loss: 0.0659 - binary_accuracy: 0.9673\n",
            "Epoch 26/150\n",
            "1/1 [==============================] - 0s 25ms/step - loss: 0.0645 - binary_accuracy: 0.9675\n",
            "Epoch 27/150\n",
            "1/1 [==============================] - 0s 27ms/step - loss: 0.0656 - binary_accuracy: 0.9674\n",
            "Epoch 28/150\n",
            "1/1 [==============================] - 0s 27ms/step - loss: 0.0653 - binary_accuracy: 0.9675\n",
            "Epoch 29/150\n",
            "1/1 [==============================] - 0s 24ms/step - loss: 0.0641 - binary_accuracy: 0.9681\n",
            "Epoch 30/150\n",
            "1/1 [==============================] - 0s 27ms/step - loss: 0.0644 - binary_accuracy: 0.9680\n",
            "Epoch 31/150\n",
            "1/1 [==============================] - 0s 25ms/step - loss: 0.0651 - binary_accuracy: 0.9683\n",
            "Epoch 32/150\n",
            "1/1 [==============================] - 0s 26ms/step - loss: 0.0647 - binary_accuracy: 0.9688\n",
            "Epoch 33/150\n",
            "1/1 [==============================] - 0s 24ms/step - loss: 0.0651 - binary_accuracy: 0.9685\n",
            "Epoch 34/150\n",
            "1/1 [==============================] - 0s 28ms/step - loss: 0.0639 - binary_accuracy: 0.9683\n",
            "Epoch 35/150\n",
            "1/1 [==============================] - 0s 26ms/step - loss: 0.0628 - binary_accuracy: 0.9681\n",
            "Epoch 36/150\n",
            "1/1 [==============================] - 0s 29ms/step - loss: 0.0649 - binary_accuracy: 0.9686\n",
            "Epoch 37/150\n",
            "1/1 [==============================] - 0s 34ms/step - loss: 0.0631 - binary_accuracy: 0.9681\n",
            "Epoch 38/150\n",
            "1/1 [==============================] - 0s 27ms/step - loss: 0.0636 - binary_accuracy: 0.9690\n",
            "Epoch 39/150\n",
            "1/1 [==============================] - 0s 28ms/step - loss: 0.0637 - binary_accuracy: 0.9686\n",
            "Epoch 40/150\n",
            "1/1 [==============================] - 0s 20ms/step - loss: 0.0625 - binary_accuracy: 0.9688\n",
            "Epoch 41/150\n",
            "1/1 [==============================] - 0s 29ms/step - loss: 0.0642 - binary_accuracy: 0.9683\n",
            "Epoch 42/150\n",
            "1/1 [==============================] - 0s 28ms/step - loss: 0.0633 - binary_accuracy: 0.9689\n",
            "Epoch 43/150\n",
            "1/1 [==============================] - 0s 27ms/step - loss: 0.0630 - binary_accuracy: 0.9687\n",
            "Epoch 44/150\n",
            "1/1 [==============================] - 0s 24ms/step - loss: 0.0632 - binary_accuracy: 0.9681\n",
            "Epoch 45/150\n",
            "1/1 [==============================] - 0s 29ms/step - loss: 0.0622 - binary_accuracy: 0.9687\n",
            "Epoch 46/150\n",
            "1/1 [==============================] - 0s 26ms/step - loss: 0.0625 - binary_accuracy: 0.9686\n",
            "Epoch 47/150\n",
            "1/1 [==============================] - 0s 26ms/step - loss: 0.0620 - binary_accuracy: 0.9691\n",
            "Epoch 48/150\n",
            "1/1 [==============================] - 0s 28ms/step - loss: 0.0611 - binary_accuracy: 0.9694\n",
            "Epoch 49/150\n",
            "1/1 [==============================] - 0s 26ms/step - loss: 0.0610 - binary_accuracy: 0.9691\n",
            "Epoch 50/150\n",
            "1/1 [==============================] - 0s 28ms/step - loss: 0.0607 - binary_accuracy: 0.9687\n",
            "Epoch 51/150\n",
            "1/1 [==============================] - 0s 26ms/step - loss: 0.0616 - binary_accuracy: 0.9686\n",
            "Epoch 52/150\n",
            "1/1 [==============================] - 0s 29ms/step - loss: 0.0599 - binary_accuracy: 0.9698\n",
            "Epoch 53/150\n",
            "1/1 [==============================] - 0s 23ms/step - loss: 0.0608 - binary_accuracy: 0.9694\n",
            "Epoch 54/150\n",
            "1/1 [==============================] - 0s 30ms/step - loss: 0.0595 - binary_accuracy: 0.9697\n",
            "Epoch 55/150\n",
            "1/1 [==============================] - 0s 29ms/step - loss: 0.0608 - binary_accuracy: 0.9693\n",
            "Epoch 56/150\n",
            "1/1 [==============================] - 0s 24ms/step - loss: 0.0601 - binary_accuracy: 0.9697\n",
            "Epoch 57/150\n",
            "1/1 [==============================] - 0s 30ms/step - loss: 0.0597 - binary_accuracy: 0.9708\n",
            "Epoch 58/150\n",
            "1/1 [==============================] - 0s 33ms/step - loss: 0.0582 - binary_accuracy: 0.9718\n",
            "Epoch 59/150\n",
            "1/1 [==============================] - 0s 24ms/step - loss: 0.0567 - binary_accuracy: 0.9722\n",
            "Epoch 60/150\n",
            "1/1 [==============================] - 0s 26ms/step - loss: 0.0575 - binary_accuracy: 0.9717\n",
            "Epoch 61/150\n",
            "1/1 [==============================] - 0s 25ms/step - loss: 0.0558 - binary_accuracy: 0.9727\n",
            "Epoch 62/150\n",
            "1/1 [==============================] - 0s 28ms/step - loss: 0.0562 - binary_accuracy: 0.9729\n",
            "Epoch 63/150\n",
            "1/1 [==============================] - 0s 24ms/step - loss: 0.0523 - binary_accuracy: 0.9751\n",
            "Epoch 64/150\n",
            "1/1 [==============================] - 0s 27ms/step - loss: 0.0524 - binary_accuracy: 0.9756\n",
            "Epoch 65/150\n",
            "1/1 [==============================] - 0s 37ms/step - loss: 0.0546 - binary_accuracy: 0.9737\n",
            "Epoch 66/150\n",
            "1/1 [==============================] - 0s 30ms/step - loss: 0.0499 - binary_accuracy: 0.9765\n",
            "Epoch 67/150\n",
            "1/1 [==============================] - 0s 31ms/step - loss: 0.0516 - binary_accuracy: 0.9747\n",
            "Epoch 68/150\n",
            "1/1 [==============================] - 0s 37ms/step - loss: 0.0460 - binary_accuracy: 0.9792\n",
            "Epoch 69/150\n",
            "1/1 [==============================] - 0s 26ms/step - loss: 0.0491 - binary_accuracy: 0.9794\n",
            "Epoch 70/150\n",
            "1/1 [==============================] - 0s 28ms/step - loss: 0.0456 - binary_accuracy: 0.9780\n",
            "Epoch 71/150\n",
            "1/1 [==============================] - 0s 43ms/step - loss: 0.0466 - binary_accuracy: 0.9773\n",
            "Epoch 72/150\n",
            "1/1 [==============================] - 0s 28ms/step - loss: 0.0424 - binary_accuracy: 0.9799\n",
            "Epoch 73/150\n",
            "1/1 [==============================] - 0s 29ms/step - loss: 0.0383 - binary_accuracy: 0.9849\n",
            "Epoch 74/150\n",
            "1/1 [==============================] - 0s 28ms/step - loss: 0.0493 - binary_accuracy: 0.9785\n",
            "Epoch 75/150\n",
            "1/1 [==============================] - 0s 25ms/step - loss: 0.0382 - binary_accuracy: 0.9826\n",
            "Epoch 76/150\n",
            "1/1 [==============================] - 0s 27ms/step - loss: 0.0558 - binary_accuracy: 0.9716\n",
            "Epoch 77/150\n",
            "1/1 [==============================] - 0s 25ms/step - loss: 0.0567 - binary_accuracy: 0.9749\n",
            "Epoch 78/150\n",
            "1/1 [==============================] - 0s 34ms/step - loss: 0.0539 - binary_accuracy: 0.9755\n",
            "Epoch 79/150\n",
            "1/1 [==============================] - 0s 28ms/step - loss: 0.0434 - binary_accuracy: 0.9791\n",
            "Epoch 80/150\n",
            "1/1 [==============================] - 0s 22ms/step - loss: 0.0468 - binary_accuracy: 0.9762\n",
            "Epoch 81/150\n",
            "1/1 [==============================] - 0s 26ms/step - loss: 0.0405 - binary_accuracy: 0.9801\n",
            "Epoch 82/150\n",
            "1/1 [==============================] - 0s 26ms/step - loss: 0.0411 - binary_accuracy: 0.9810\n",
            "Epoch 83/150\n",
            "1/1 [==============================] - 0s 26ms/step - loss: 0.0400 - binary_accuracy: 0.9817\n",
            "Epoch 84/150\n",
            "1/1 [==============================] - 0s 39ms/step - loss: 0.0370 - binary_accuracy: 0.9839\n",
            "Epoch 85/150\n",
            "1/1 [==============================] - 0s 36ms/step - loss: 0.0381 - binary_accuracy: 0.9831\n",
            "Epoch 86/150\n",
            "1/1 [==============================] - 0s 30ms/step - loss: 0.0320 - binary_accuracy: 0.9850\n",
            "Epoch 87/150\n",
            "1/1 [==============================] - 0s 31ms/step - loss: 0.0394 - binary_accuracy: 0.9814\n",
            "Epoch 88/150\n",
            "1/1 [==============================] - 0s 28ms/step - loss: 0.0325 - binary_accuracy: 0.9858\n",
            "Epoch 89/150\n",
            "1/1 [==============================] - 0s 26ms/step - loss: 0.0344 - binary_accuracy: 0.9839\n",
            "Epoch 90/150\n",
            "1/1 [==============================] - 0s 30ms/step - loss: 0.0377 - binary_accuracy: 0.9825\n",
            "Epoch 91/150\n",
            "1/1 [==============================] - 0s 25ms/step - loss: 0.0340 - binary_accuracy: 0.9834\n",
            "Epoch 92/150\n",
            "1/1 [==============================] - 0s 31ms/step - loss: 0.0347 - binary_accuracy: 0.9837\n",
            "Epoch 93/150\n",
            "1/1 [==============================] - 0s 27ms/step - loss: 0.0307 - binary_accuracy: 0.9867\n",
            "Epoch 94/150\n",
            "1/1 [==============================] - 0s 26ms/step - loss: 0.0314 - binary_accuracy: 0.9853\n",
            "Epoch 95/150\n",
            "1/1 [==============================] - 0s 25ms/step - loss: 0.0299 - binary_accuracy: 0.9851\n",
            "Epoch 96/150\n",
            "1/1 [==============================] - 0s 30ms/step - loss: 0.0276 - binary_accuracy: 0.9869\n",
            "Epoch 97/150\n",
            "1/1 [==============================] - 0s 31ms/step - loss: 0.0292 - binary_accuracy: 0.9867\n",
            "Epoch 98/150\n",
            "1/1 [==============================] - 0s 24ms/step - loss: 0.0277 - binary_accuracy: 0.9878\n",
            "Epoch 99/150\n",
            "1/1 [==============================] - 0s 22ms/step - loss: 0.0369 - binary_accuracy: 0.9817\n",
            "Epoch 100/150\n",
            "1/1 [==============================] - 0s 27ms/step - loss: 0.0272 - binary_accuracy: 0.9873\n",
            "Epoch 101/150\n",
            "1/1 [==============================] - 0s 24ms/step - loss: 0.0327 - binary_accuracy: 0.9853\n",
            "Epoch 102/150\n",
            "1/1 [==============================] - 0s 27ms/step - loss: 0.0315 - binary_accuracy: 0.9852\n",
            "Epoch 103/150\n",
            "1/1 [==============================] - 0s 24ms/step - loss: 0.0300 - binary_accuracy: 0.9856\n",
            "Epoch 104/150\n",
            "1/1 [==============================] - 0s 27ms/step - loss: 0.0357 - binary_accuracy: 0.9823\n",
            "Epoch 105/150\n",
            "1/1 [==============================] - 0s 29ms/step - loss: 0.0362 - binary_accuracy: 0.9840\n",
            "Epoch 106/150\n",
            "1/1 [==============================] - 0s 26ms/step - loss: 0.0393 - binary_accuracy: 0.9836\n",
            "Epoch 107/150\n",
            "1/1 [==============================] - 0s 31ms/step - loss: 0.0289 - binary_accuracy: 0.9858\n",
            "Epoch 108/150\n",
            "1/1 [==============================] - 0s 24ms/step - loss: 0.0335 - binary_accuracy: 0.9834\n",
            "Epoch 109/150\n",
            "1/1 [==============================] - 0s 23ms/step - loss: 0.0283 - binary_accuracy: 0.9880\n",
            "Epoch 110/150\n",
            "1/1 [==============================] - 0s 24ms/step - loss: 0.0313 - binary_accuracy: 0.9848\n",
            "Epoch 111/150\n",
            "1/1 [==============================] - 0s 32ms/step - loss: 0.0301 - binary_accuracy: 0.9873\n",
            "Epoch 112/150\n",
            "1/1 [==============================] - 0s 23ms/step - loss: 0.0294 - binary_accuracy: 0.9863\n",
            "Epoch 113/150\n",
            "1/1 [==============================] - 0s 22ms/step - loss: 0.0372 - binary_accuracy: 0.9816\n",
            "Epoch 114/150\n",
            "1/1 [==============================] - 0s 32ms/step - loss: 0.0322 - binary_accuracy: 0.9838\n",
            "Epoch 115/150\n",
            "1/1 [==============================] - 0s 31ms/step - loss: 0.0361 - binary_accuracy: 0.9833\n",
            "Epoch 116/150\n",
            "1/1 [==============================] - 0s 31ms/step - loss: 0.0316 - binary_accuracy: 0.9857\n",
            "Epoch 117/150\n",
            "1/1 [==============================] - 0s 27ms/step - loss: 0.0284 - binary_accuracy: 0.9878\n",
            "Epoch 118/150\n",
            "1/1 [==============================] - 0s 29ms/step - loss: 0.0271 - binary_accuracy: 0.9888\n",
            "Epoch 119/150\n",
            "1/1 [==============================] - 0s 26ms/step - loss: 0.0324 - binary_accuracy: 0.9852\n",
            "Epoch 120/150\n",
            "1/1 [==============================] - 0s 26ms/step - loss: 0.0346 - binary_accuracy: 0.9839\n",
            "Epoch 121/150\n",
            "1/1 [==============================] - 0s 27ms/step - loss: 0.0267 - binary_accuracy: 0.9881\n",
            "Epoch 122/150\n",
            "1/1 [==============================] - 0s 26ms/step - loss: 0.0325 - binary_accuracy: 0.9847\n",
            "Epoch 123/150\n",
            "1/1 [==============================] - 0s 32ms/step - loss: 0.0299 - binary_accuracy: 0.9860\n",
            "Epoch 124/150\n",
            "1/1 [==============================] - 0s 26ms/step - loss: 0.0342 - binary_accuracy: 0.9837\n",
            "Epoch 125/150\n",
            "1/1 [==============================] - 0s 26ms/step - loss: 0.0278 - binary_accuracy: 0.9870\n",
            "Epoch 126/150\n",
            "1/1 [==============================] - 0s 40ms/step - loss: 0.0306 - binary_accuracy: 0.9855\n",
            "Epoch 127/150\n",
            "1/1 [==============================] - 0s 32ms/step - loss: 0.0373 - binary_accuracy: 0.9822\n",
            "Epoch 128/150\n",
            "1/1 [==============================] - 0s 33ms/step - loss: 0.0293 - binary_accuracy: 0.9877\n",
            "Epoch 129/150\n",
            "1/1 [==============================] - 0s 31ms/step - loss: 0.0319 - binary_accuracy: 0.9864\n",
            "Epoch 130/150\n",
            "1/1 [==============================] - 0s 30ms/step - loss: 0.0263 - binary_accuracy: 0.9879\n",
            "Epoch 131/150\n",
            "1/1 [==============================] - 0s 26ms/step - loss: 0.0298 - binary_accuracy: 0.9860\n",
            "Epoch 132/150\n",
            "1/1 [==============================] - 0s 23ms/step - loss: 0.0248 - binary_accuracy: 0.9900\n",
            "Epoch 133/150\n",
            "1/1 [==============================] - 0s 29ms/step - loss: 0.0318 - binary_accuracy: 0.9868\n",
            "Epoch 134/150\n",
            "1/1 [==============================] - 0s 26ms/step - loss: 0.0275 - binary_accuracy: 0.9887\n",
            "Epoch 135/150\n",
            "1/1 [==============================] - 0s 37ms/step - loss: 0.0317 - binary_accuracy: 0.9839\n",
            "Epoch 136/150\n",
            "1/1 [==============================] - 0s 30ms/step - loss: 0.0250 - binary_accuracy: 0.9886\n",
            "Epoch 137/150\n",
            "1/1 [==============================] - 0s 26ms/step - loss: 0.0294 - binary_accuracy: 0.9858\n",
            "Epoch 138/150\n",
            "1/1 [==============================] - 0s 27ms/step - loss: 0.0260 - binary_accuracy: 0.9876\n",
            "Epoch 139/150\n",
            "1/1 [==============================] - 0s 26ms/step - loss: 0.0285 - binary_accuracy: 0.9857\n",
            "Epoch 140/150\n",
            "1/1 [==============================] - 0s 27ms/step - loss: 0.0241 - binary_accuracy: 0.9888\n",
            "Epoch 141/150\n",
            "1/1 [==============================] - 0s 27ms/step - loss: 0.0281 - binary_accuracy: 0.9882\n",
            "Epoch 142/150\n",
            "1/1 [==============================] - 0s 31ms/step - loss: 0.0224 - binary_accuracy: 0.9899\n",
            "Epoch 143/150\n",
            "1/1 [==============================] - 0s 29ms/step - loss: 0.0227 - binary_accuracy: 0.9897\n",
            "Epoch 144/150\n",
            "1/1 [==============================] - 0s 33ms/step - loss: 0.0268 - binary_accuracy: 0.9871\n",
            "Epoch 145/150\n",
            "1/1 [==============================] - 0s 30ms/step - loss: 0.0239 - binary_accuracy: 0.9890\n",
            "Epoch 146/150\n",
            "1/1 [==============================] - 0s 29ms/step - loss: 0.0238 - binary_accuracy: 0.9902\n",
            "Epoch 147/150\n",
            "1/1 [==============================] - 0s 31ms/step - loss: 0.0240 - binary_accuracy: 0.9897\n",
            "Epoch 148/150\n",
            "1/1 [==============================] - 0s 25ms/step - loss: 0.0299 - binary_accuracy: 0.9856\n",
            "Epoch 149/150\n",
            "1/1 [==============================] - 0s 28ms/step - loss: 0.0228 - binary_accuracy: 0.9898\n",
            "Epoch 150/150\n",
            "1/1 [==============================] - 0s 29ms/step - loss: 0.0250 - binary_accuracy: 0.9881\n"
          ]
        }
      ]
    },
    {
      "cell_type": "code",
      "metadata": {
        "colab": {
          "base_uri": "https://localhost:8080/",
          "height": 644
        },
        "id": "ZqIh8xiUjjsu",
        "outputId": "9158e011-71f4-46f7-a433-7f0d922d1ac0"
      },
      "source": [
        "tf.keras.utils.plot_model(model, \"model.png\", show_shapes=True, expand_nested=True) #How our model actually looks"
      ],
      "execution_count": null,
      "outputs": [
        {
          "output_type": "execute_result",
          "data": {
            "image/png": "[encoded data removed]",
            "text/plain": [
              "<IPython.core.display.Image object>"
            ]
          },
          "metadata": {},
          "execution_count": 11
        }
      ]
    },
    {
      "cell_type": "markdown",
      "metadata": {
        "id": "AGA76TjJsF8N"
      },
      "source": [
        "## Evaluation and prediction part"
      ]
    },
    {
      "cell_type": "code",
      "metadata": {
        "colab": {
          "base_uri": "https://localhost:8080/"
        },
        "id": "B_t_lbRAYXh9",
        "outputId": "f6571ac6-9296-4b42-eaaf-146a2a879fbc"
      },
      "source": [
        "model.evaluate(X_val,y_val)"
      ],
      "execution_count": null,
      "outputs": [
        {
          "output_type": "stream",
          "name": "stdout",
          "text": [
            "1/1 [==============================] - 0s 142ms/step - loss: 0.1566 - binary_accuracy: 0.9720\n"
          ]
        },
        {
          "output_type": "execute_result",
          "data": {
            "text/plain": [
              "[0.15657612681388855, 0.9720312356948853]"
            ]
          },
          "metadata": {},
          "execution_count": 18
        }
      ]
    },
    {
      "cell_type": "code",
      "metadata": {
        "id": "qV99oADyZRgl"
      },
      "source": [
        "predictions = model.predict(X_test)"
      ],
      "execution_count": null,
      "outputs": []
    },
    {
      "cell_type": "markdown",
      "metadata": {
        "id": "QlNltjXcsMPy"
      },
      "source": [
        "## Plotting the real ad the predicted image of the obstacle"
      ]
    },
    {
      "cell_type": "code",
      "metadata": {
        "colab": {
          "base_uri": "https://localhost:8080/",
          "height": 762
        },
        "id": "pxLVel3iZc9Q",
        "outputId": "ad03387a-74fe-483e-c12f-dad93b0e6690"
      },
      "source": [
        "plt.rcParams[\"figure.figsize\"] = (10,15)\n",
        "fig,ax = plt.subplots(2,2)\n",
        "for i in range(2):\n",
        "  ax[i,0].imshow(predictions[i].reshape(40,40),cmap='gray')\n",
        "  ax[i,0].set_title('Prediction')\n",
        "  ax[i,1].imshow(plottest[i].reshape(40,40),cmap='gray')\n",
        "  ax[i,1].set_title('Real image')\n",
        "\n",
        "plt.show()"
      ],
      "execution_count": null,
      "outputs": [
        {
          "output_type": "display_data",
          "data": {
            "image/png": "[encoded data removed]",
            "text/plain": [
              "<Figure size 720x1080 with 4 Axes>"
            ]
          },
          "metadata": {
            "needs_background": "light"
          }
        }
      ]
    },
    {
      "cell_type": "markdown",
      "metadata": {
        "id": "ryRlfL9tsRpf"
      },
      "source": [
        "## calcualting the R_2 metrics of the predicted images as per mentioned in paper"
      ]
    },
    {
      "cell_type": "code",
      "metadata": {
        "id": "gZSGuuqbZrRt",
        "colab": {
          "base_uri": "https://localhost:8080/"
        },
        "outputId": "75f8cfc0-5d3f-450c-ae1b-ac67cd9c015f"
      },
      "source": [
        "R2_score = []\n",
        "for i in range(2):\n",
        "  R2_score.append(r2_score(predictions[i], y_test[i]))\n",
        "  print('R2 Score for the test {} is {}'.format(i+1,r2_score(predictions[i], y_test[i])))"
      ],
      "execution_count": null,
      "outputs": [
        {
          "output_type": "stream",
          "name": "stdout",
          "text": [
            "R2 Score for the test 1 is 0.8703673972972206\n",
            "R2 Score for the test 2 is -0.5499289444370488\n"
          ]
        }
      ]
    },
    {
      "cell_type": "code",
      "metadata": {
        "colab": {
          "base_uri": "https://localhost:8080/",
          "height": 406
        },
        "id": "ZDJR-xzBegKo",
        "outputId": "280ad8fc-9ca1-4aa4-f646-03ad87f27f14"
      },
      "source": [
        "plt.plot(ytestrad/1000,R2_score,'go--')\n",
        "plt.xlabel('Radius in m')\n",
        "plt.ylabel('R2 wrt radius')"
      ],
      "execution_count": null,
      "outputs": [
        {
          "output_type": "execute_result",
          "data": {
            "text/plain": [
              "Text(0, 0.5, 'R2 wrt radius')"
            ]
          },
          "metadata": {},
          "execution_count": 27
        },
        {
          "output_type": "display_data",
          "data": {
            "image/png": "[encoded data removed]",
            "text/plain": [
              "<Figure size 432x432 with 1 Axes>"
            ]
          },
          "metadata": {
            "needs_background": "light"
          }
        }
      ]
    },
    {
      "cell_type": "markdown",
      "metadata": {
        "id": "E8YjCXSDsawh"
      },
      "source": [
        "## Main part calcualting the area and the size/radius of the obstacles"
      ]
    },
    {
      "cell_type": "code",
      "metadata": {
        "id": "InHi6TlMWX9q"
      },
      "source": [
        "mes = []\n",
        "for i in predictions:\n",
        "  a = i.reshape(40,40)*255\n",
        "  mes.append(np.where(a<35,0,1))"
      ],
      "execution_count": null,
      "outputs": []
    },
    {
      "cell_type": "code",
      "metadata": {
        "colab": {
          "base_uri": "https://localhost:8080/",
          "height": 731
        },
        "id": "ebTdjBYVkxl_",
        "outputId": "26ffe1ff-d196-4e81-a9c1-ac934ecd8c3a"
      },
      "source": [
        "plt.rcParams[\"figure.figsize\"] = (6,6)\n",
        "plt.imshow(mes[0],cmap='gray')\n",
        "plt.show()\n",
        "plt.imshow(mes[1],cmap='gray')\n",
        "plt.show()"
      ],
      "execution_count": null,
      "outputs": [
        {
          "output_type": "display_data",
          "data": {
            "image/png": "[encoded data removed]",
            "text/plain": [
              "<Figure size 432x432 with 1 Axes>"
            ]
          },
          "metadata": {
            "needs_background": "light"
          }
        },
        {
          "output_type": "display_data",
          "data": {
            "image/png": "[encoded data removed]",
            "text/plain": [
              "<Figure size 432x432 with 1 Axes>"
            ]
          },
          "metadata": {
            "needs_background": "light"
          }
        }
      ]
    },
    {
      "cell_type": "code",
      "metadata": {
        "id": "Kt5IQvoxnpQb"
      },
      "source": [
        "def find_area_rad(img):\n",
        "  img = img.astype(np.uint8)*255\n",
        "  ret,thresh = cv2.threshold(img,36,255,cv2.THRESH_BINARY)\n",
        "  #thresh = thresh.astype('uint8')\n",
        "  contours,hierarchy = cv2.findContours(thresh, 1, 2)\n",
        "  cnt = contours[0]\n",
        "\n",
        "  return  cv2.contourArea(cnt) , np.sqrt(cv2.contourArea(cnt)/np.pi)"
      ],
      "execution_count": null,
      "outputs": []
    },
    {
      "cell_type": "code",
      "metadata": {
        "id": "N__xCjF4msSx"
      },
      "source": [
        "area_pred0,rad_pred0 = find_area_rad(mes[0])\n",
        "area_pred1,rad_pred1 = find_area_rad(mes[1])\n",
        "area_true0,rad_true0 = find_area_rad(y_test[0].reshape(40,40))\n",
        "area_true1,rad_true1 = find_area_rad(y_test[1].reshape(40,40))"
      ],
      "execution_count": null,
      "outputs": []
    },
    {
      "cell_type": "code",
      "metadata": {
        "colab": {
          "base_uri": "https://localhost:8080/"
        },
        "id": "QMjg8-UoqaQx",
        "outputId": "49d25cd4-e78a-4787-d2b5-952003e75d81"
      },
      "source": [
        "print('Radius for true image : {} and radius for the predicted image {} for test image {}'.format(rad_true0,rad_pred0,1))\n",
        "print('Radius for true image : {} and radius for the predicted image {} for test image {}'.format(rad_true1,rad_pred1,2))"
      ],
      "execution_count": null,
      "outputs": [
        {
          "output_type": "stream",
          "name": "stdout",
          "text": [
            "Radius for true image : 4.61809077155419 and radius for the predicted image 5.725898905580716 for test image 1\n",
            "Radius for true image : 2.7057581899030048 and radius for the predicted image 2.763953195770684 for test image 2\n"
          ]
        }
      ]
    },
    {
      "cell_type": "code",
      "metadata": {
        "id": "FP6k2aaWq2E4"
      },
      "source": [],
      "execution_count": null,
      "outputs": []
    }
  ]
}